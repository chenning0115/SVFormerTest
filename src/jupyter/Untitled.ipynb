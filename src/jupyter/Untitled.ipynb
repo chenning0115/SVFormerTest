{
 "cells": [
  {
   "cell_type": "code",
   "execution_count": 1,
   "id": "dbcb3e3c",
   "metadata": {},
   "outputs": [],
   "source": [
    "import os, sys, json\n",
    "import numpy as np\n",
    "import pandas as pd\n",
    "import matplotlib.pyplot as plt\n",
    "%matplotlib inline"
   ]
  },
  {
   "cell_type": "code",
   "execution_count": 56,
   "id": "4c449432",
   "metadata": {},
   "outputs": [],
   "source": [
    "pred = np.load('../res/Indian_test_1717031085pred.npy')"
   ]
  },
  {
   "cell_type": "code",
   "execution_count": 57,
   "id": "e5ac30e1",
   "metadata": {},
   "outputs": [],
   "source": [
    "res = json.loads(open('../res/Indian_test_1717031085json').read())"
   ]
  },
  {
   "cell_type": "code",
   "execution_count": 58,
   "id": "968eb6a4",
   "metadata": {},
   "outputs": [],
   "source": [
    "matrix = []\n",
    "for row in res['eval']['confusion'].replace(\"'\", \"\").replace(\",\", \"\").split(']'):\n",
    "    ll = []\n",
    "    for i in row.strip('[').strip('\\n').strip(' [').split(' '):\n",
    "        try:\n",
    "            ll.append(int(i))\n",
    "        except:\n",
    "            pass\n",
    "    if len(ll)>0:\n",
    "        matrix.append(ll)"
   ]
  },
  {
   "cell_type": "code",
   "execution_count": 59,
   "id": "6f26e578",
   "metadata": {},
   "outputs": [],
   "source": [
    "df = pd.DataFrame(matrix, columns=list(range(len(matrix[0]))))"
   ]
  },
  {
   "cell_type": "code",
   "execution_count": 60,
   "id": "cb900a43",
   "metadata": {
    "scrolled": false
   },
   "outputs": [
    {
     "data": {
      "text/html": [
       "<div>\n",
       "<style scoped>\n",
       "    .dataframe tbody tr th:only-of-type {\n",
       "        vertical-align: middle;\n",
       "    }\n",
       "\n",
       "    .dataframe tbody tr th {\n",
       "        vertical-align: top;\n",
       "    }\n",
       "\n",
       "    .dataframe thead th {\n",
       "        text-align: right;\n",
       "    }\n",
       "</style>\n",
       "<table border=\"1\" class=\"dataframe\">\n",
       "  <thead>\n",
       "    <tr style=\"text-align: right;\">\n",
       "      <th></th>\n",
       "      <th>0</th>\n",
       "      <th>1</th>\n",
       "      <th>2</th>\n",
       "    </tr>\n",
       "  </thead>\n",
       "  <tbody>\n",
       "    <tr>\n",
       "      <th>0</th>\n",
       "      <td>950</td>\n",
       "      <td>0</td>\n",
       "      <td>2</td>\n",
       "    </tr>\n",
       "    <tr>\n",
       "      <th>1</th>\n",
       "      <td>147</td>\n",
       "      <td>2209</td>\n",
       "      <td>79</td>\n",
       "    </tr>\n",
       "    <tr>\n",
       "      <th>2</th>\n",
       "      <td>0</td>\n",
       "      <td>0</td>\n",
       "      <td>573</td>\n",
       "    </tr>\n",
       "  </tbody>\n",
       "</table>\n",
       "</div>"
      ],
      "text/plain": [
       "     0     1    2\n",
       "0  950     0    2\n",
       "1  147  2209   79\n",
       "2    0     0  573"
      ]
     },
     "execution_count": 60,
     "metadata": {},
     "output_type": "execute_result"
    }
   ],
   "source": [
    "df"
   ]
  },
  {
   "cell_type": "code",
   "execution_count": 62,
   "id": "0675b94d",
   "metadata": {},
   "outputs": [
    {
     "name": "stdout",
     "output_type": "stream",
     "text": [
      "0.03275705186533212 0.042311191992720654\n",
      "0.07067424857839155 0.032087733549959384\n"
     ]
    },
    {
     "data": {
      "text/plain": [
       "(None, None)"
      ]
     },
     "execution_count": 62,
     "metadata": {},
     "output_type": "execute_result"
    }
   ],
   "source": [
    "ori = [72,2033,93]\n",
    "new = [174,2209,79]\n",
    "def pp(t):\n",
    "    print(t[0]/sum(t), t[2]/sum(t))\n",
    "pp(ori), pp(new)"
   ]
  },
  {
   "cell_type": "code",
   "execution_count": 63,
   "id": "66a4fc40",
   "metadata": {},
   "outputs": [],
   "source": [
    "import sys\n",
    "sys.path.append('../')\n",
    "import plot"
   ]
  },
  {
   "cell_type": "code",
   "execution_count": 64,
   "id": "d378045d",
   "metadata": {},
   "outputs": [],
   "source": [
    "from scipy import io as sio"
   ]
  },
  {
   "cell_type": "code",
   "execution_count": 65,
   "id": "aaa7194d",
   "metadata": {},
   "outputs": [],
   "source": [
    "raw_data = sio.loadmat('../../data/Indian/Indian_20new_split.mat')\n",
    "TR, TE, data = raw_data['TR'], raw_data['TE'], raw_data['input']\n",
    "label = TR + TE"
   ]
  },
  {
   "cell_type": "code",
   "execution_count": 66,
   "id": "e263eb8c",
   "metadata": {},
   "outputs": [],
   "source": [
    "def get_pred(check_in):\n",
    "    label = TR + TE\n",
    "    temp = pred * (label>0).astype(np.uint)\n",
    "    \n",
    "    con = (temp==check_in[0])\n",
    "    for c in check_in[1:]:\n",
    "        con = con | (temp==c)\n",
    "    temp = temp * con\n",
    "    return temp\n",
    "\n",
    "def get_label(check_in):\n",
    "    label = TR + TE\n",
    "    temp = label - 1\n",
    "    con = (temp==check_in[0])\n",
    "    for c in check_in[1:]:\n",
    "        con = con | (temp==c)\n",
    "    temp = temp * con\n",
    "    return temp"
   ]
  },
  {
   "cell_type": "code",
   "execution_count": 68,
   "id": "e23bfe54",
   "metadata": {
    "scrolled": false
   },
   "outputs": [
    {
     "data": {
      "image/png": "[encoded data removed]",
      "text/plain": [
       "<Figure size 290x290 with 1 Axes>"
      ]
     },
     "metadata": {},
     "output_type": "display_data"
    },
    {
     "data": {
      "image/png": "[encoded data removed]",
      "text/plain": [
       "<Figure size 290x290 with 1 Axes>"
      ]
     },
     "metadata": {},
     "output_type": "display_data"
    }
   ],
   "source": [
    "check_in = [0,1,2]\n",
    "\n",
    "plot.plot_one('a', get_pred(check_in), label, './test')\n",
    "plot.plot_one('a', get_label(check_in), label, './test_real')"
   ]
  },
  {
   "cell_type": "code",
   "execution_count": 71,
   "id": "1b119c88",
   "metadata": {},
   "outputs": [
    {
     "data": {
      "text/plain": [
       "(array([0, 1, 2], dtype=int64), array([5302, 9919, 5804], dtype=int64))"
      ]
     },
     "execution_count": 71,
     "metadata": {},
     "output_type": "execute_result"
    }
   ],
   "source": [
    " np.unique(pred, return_counts=True)"
   ]
  },
  {
   "cell_type": "code",
   "execution_count": 53,
   "id": "d5507389",
   "metadata": {},
   "outputs": [],
   "source": [
    "def process(T):\n",
    "    for i in range(1,17):\n",
    "        if i not in [10,11,12]:\n",
    "            T[T==i] = 0\n",
    "    T[T==10]=1\n",
    "    T[T==11]=2\n",
    "    T[T==12]=3\n",
    "    return T"
   ]
  },
  {
   "cell_type": "code",
   "execution_count": 55,
   "id": "708092d7",
   "metadata": {},
   "outputs": [
    {
     "name": "stdout",
     "output_type": "stream",
     "text": [
      "(array([0, 1, 2, 3], dtype=uint8), array([20965,    20,    20,    20], dtype=int64))\n",
      "(array([0, 1, 2, 3], dtype=uint8), array([17065,   952,  2435,   573], dtype=int64))\n"
     ]
    }
   ],
   "source": [
    "raw_data = sio.loadmat('../../data/Indian/Indian_20_split.mat')\n",
    "TR, TE, data = raw_data['TR'], raw_data['TE'], raw_data['input']\n",
    "label = TR + TE\n",
    "TR = process(TR)\n",
    "TE = process(TE)\n",
    "print(np.unique(TR, return_counts=True))\n",
    "print(np.unique(TE, return_counts=True))\n",
    "raw_data['TR'] = TR\n",
    "raw_data['TE'] = TE\n",
    "sio.savemat('../../data/Indian/Indian_20new_split.mat', raw_data)"
   ]
  },
  {
   "cell_type": "markdown",
   "id": "6c009e32",
   "metadata": {},
   "source": [
    "ll = np.asarray([0]*10)\n",
    "ll[5] = 1\n",
    "ll"
   ]
  },
  {
   "cell_type": "code",
   "execution_count": 3,
   "id": "950e9daf",
   "metadata": {},
   "outputs": [
    {
     "data": {
      "text/plain": [
       "array([0, 0, 0, 0, 0, 1, 1, 1, 0, 0])"
      ]
     },
     "execution_count": 3,
     "metadata": {},
     "output_type": "execute_result"
    }
   ],
   "source": [
    "ll = np.asarray([0]*10)\n",
    "ll[5:8] = 1\n",
    "ll"
   ]
  }
 ],
 "metadata": {
  "kernelspec": {
   "display_name": "Python 3 (ipykernel)",
   "language": "python",
   "name": "python3"
  },
  "language_info": {
   "codemirror_mode": {
    "name": "ipython",
    "version": 3
   },
   "file_extension": ".py",
   "mimetype": "text/x-python",
   "name": "python",
   "nbconvert_exporter": "python",
   "pygments_lexer": "ipython3",
   "version": "3.8.18"
  }
 },
 "nbformat": 4,
 "nbformat_minor": 5
}
